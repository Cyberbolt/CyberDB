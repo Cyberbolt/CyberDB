{
 "cells": [
  {
   "cell_type": "code",
   "execution_count": 1,
   "id": "0a36ee6c-1a8f-436d-bed8-6beb95dbbc60",
   "metadata": {},
   "outputs": [],
   "source": [
    "from multiprocessing.managers import BaseManager"
   ]
  },
  {
   "cell_type": "code",
   "execution_count": 2,
   "id": "2dc226c5-fb65-426c-959f-2238c9ede446",
   "metadata": {},
   "outputs": [],
   "source": [
    "import numpy as np\n",
    "import pandas as pd"
   ]
  },
  {
   "cell_type": "code",
   "execution_count": 3,
   "id": "517f11e1-62ac-4905-bbe5-a07bef574bf2",
   "metadata": {},
   "outputs": [],
   "source": [
    "class Data(pd.DataFrame):\n",
    "    def show(self):\n",
    "        return self"
   ]
  },
  {
   "cell_type": "code",
   "execution_count": 4,
   "id": "c8f874b6-45f4-4a10-9dbb-12d882c4bf78",
   "metadata": {},
   "outputs": [],
   "source": [
    "data = Data([[1, 2], [1, 2]], columns=['test1', 'test2'])"
   ]
  },
  {
   "cell_type": "code",
   "execution_count": 5,
   "id": "4a463c18-f09d-4338-b100-bb15e4dc2fe2",
   "metadata": {},
   "outputs": [],
   "source": [
    "class MyManager(BaseManager):\n",
    "    pass"
   ]
  },
  {
   "cell_type": "code",
   "execution_count": 6,
   "id": "fe696d97-9be1-46f3-829a-0793cb3f8e96",
   "metadata": {},
   "outputs": [],
   "source": [
    "MyManager.register('test', callable=lambda: data)"
   ]
  },
  {
   "cell_type": "code",
   "execution_count": 7,
   "id": "925f9735-e9b8-4dba-b787-250756d3f4a1",
   "metadata": {},
   "outputs": [],
   "source": [
    "m = MyManager(address=('', 50000), authkey=b'abracadabra')"
   ]
  },
  {
   "cell_type": "code",
   "execution_count": 8,
   "id": "0e8e666b-ca3b-4d97-9975-8c82d606749b",
   "metadata": {},
   "outputs": [],
   "source": [
    "m.start()"
   ]
  },
  {
   "cell_type": "code",
   "execution_count": 9,
   "id": "764f2975-2877-4cb4-9bd9-94ee8bf96e7f",
   "metadata": {},
   "outputs": [
    {
     "data": {
      "text/html": [
       "<div>\n",
       "<style scoped>\n",
       "    .dataframe tbody tr th:only-of-type {\n",
       "        vertical-align: middle;\n",
       "    }\n",
       "\n",
       "    .dataframe tbody tr th {\n",
       "        vertical-align: top;\n",
       "    }\n",
       "\n",
       "    .dataframe thead th {\n",
       "        text-align: right;\n",
       "    }\n",
       "</style>\n",
       "<table border=\"1\" class=\"dataframe\">\n",
       "  <thead>\n",
       "    <tr style=\"text-align: right;\">\n",
       "      <th></th>\n",
       "      <th>test1</th>\n",
       "      <th>test2</th>\n",
       "    </tr>\n",
       "  </thead>\n",
       "  <tbody>\n",
       "    <tr>\n",
       "      <th>0</th>\n",
       "      <td>1</td>\n",
       "      <td>2</td>\n",
       "    </tr>\n",
       "    <tr>\n",
       "      <th>1</th>\n",
       "      <td>1</td>\n",
       "      <td>2</td>\n",
       "    </tr>\n",
       "  </tbody>\n",
       "</table>\n",
       "</div>"
      ],
      "text/plain": [
       "   test1  test2\n",
       "0      1      2\n",
       "1      1      2"
      ]
     },
     "execution_count": 9,
     "metadata": {},
     "output_type": "execute_result"
    }
   ],
   "source": [
    "data.show()"
   ]
  },
  {
   "cell_type": "code",
   "execution_count": null,
   "id": "a6174d90-c1ee-40ba-b20b-0f6cb465442b",
   "metadata": {},
   "outputs": [],
   "source": []
  }
 ],
 "metadata": {
  "kernelspec": {
   "display_name": "Python 3 (ipykernel)",
   "language": "python",
   "name": "python3"
  },
  "language_info": {
   "codemirror_mode": {
    "name": "ipython",
    "version": 3
   },
   "file_extension": ".py",
   "mimetype": "text/x-python",
   "name": "python",
   "nbconvert_exporter": "python",
   "pygments_lexer": "ipython3",
   "version": "3.8.6"
  }
 },
 "nbformat": 4,
 "nbformat_minor": 5
}
