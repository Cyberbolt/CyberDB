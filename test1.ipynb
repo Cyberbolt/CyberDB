{
 "cells": [
  {
   "cell_type": "code",
   "execution_count": 1,
   "metadata": {},
   "outputs": [],
   "source": [
    "import cyberdb\n",
    "\n",
    "db = cyberdb.Server()\n",
    "db.start(password='123456', encrypt=True)\n",
    "db.load_db()\n",
    "# db.set_backup()"
   ]
  },
  {
   "cell_type": "code",
   "execution_count": 2,
   "metadata": {},
   "outputs": [
    {
     "name": "stderr",
     "output_type": "stream",
     "text": [
      "Task exception was never retrieved\n",
      "future: <Task finished name='Task-9' coro=<Server._listener() done, defined at /python_dev/自创功能模块/CyberDB/cyberdb/network/server.py:88> exception=TypeError('must be str or None, not int')>\n",
      "Traceback (most recent call last):\n",
      "  File \"/python_dev/自创功能模块/CyberDB/cyberdb/network/server.py\", line 120, in _listener\n",
      "    await route.find()\n",
      "  File \"/python_dev/自创功能模块/CyberDB/cyberdb/network/route.py\", line 61, in find\n",
      "    await func(self)\n",
      "  File \"/python_dev/自创功能模块/CyberDB/cyberdb/network/route.py\", line 15, in wrapper\n",
      "    server_obj = await func(self, *args, **kw)\n",
      "  File \"/python_dev/自创功能模块/CyberDB/cyberdb/network/route.py\", line 145, in print_tables\n",
      "    type_name = type(table_name).rsplit('.', 1)[1]\n",
      "TypeError: must be str or None, not int\n",
      "Task exception was never retrieved\n",
      "future: <Task finished name='Task-11' coro=<Server._listener() done, defined at /python_dev/自创功能模块/CyberDB/cyberdb/network/server.py:88> exception=TypeError('must be str or None, not int')>\n",
      "Traceback (most recent call last):\n",
      "  File \"/python_dev/自创功能模块/CyberDB/cyberdb/network/server.py\", line 120, in _listener\n",
      "    await route.find()\n",
      "  File \"/python_dev/自创功能模块/CyberDB/cyberdb/network/route.py\", line 61, in find\n",
      "    await func(self)\n",
      "  File \"/python_dev/自创功能模块/CyberDB/cyberdb/network/route.py\", line 15, in wrapper\n",
      "    server_obj = await func(self, *args, **kw)\n",
      "  File \"/python_dev/自创功能模块/CyberDB/cyberdb/network/route.py\", line 145, in print_tables\n",
      "    type_name = type(self._db[table_name]).__name__\n",
      "TypeError: must be str or None, not int\n",
      "Task exception was never retrieved\n",
      "future: <Task finished name='Task-13' coro=<Server._listener() done, defined at /python_dev/自创功能模块/CyberDB/cyberdb/network/server.py:88> exception=TypeError('must be str or None, not int')>\n",
      "Traceback (most recent call last):\n",
      "  File \"/python_dev/自创功能模块/CyberDB/cyberdb/network/server.py\", line 120, in _listener\n",
      "    await route.find()\n",
      "  File \"/python_dev/自创功能模块/CyberDB/cyberdb/network/route.py\", line 61, in find\n",
      "    await func(self)\n",
      "  File \"/python_dev/自创功能模块/CyberDB/cyberdb/network/route.py\", line 15, in wrapper\n",
      "    server_obj = await func(self, *args, **kw)\n",
      "  File \"/python_dev/自创功能模块/CyberDB/cyberdb/network/route.py\", line 145, in print_tables\n",
      "    print(type(self._db[table_name]))\n",
      "TypeError: must be str or None, not int\n",
      "Task exception was never retrieved\n",
      "future: <Task finished name='Task-15' coro=<Server._listener() done, defined at /python_dev/自创功能模块/CyberDB/cyberdb/network/server.py:88> exception=TypeError('must be str or None, not int')>\n",
      "Traceback (most recent call last):\n",
      "  File \"/python_dev/自创功能模块/CyberDB/cyberdb/network/server.py\", line 120, in _listener\n",
      "    await route.find()\n",
      "  File \"/python_dev/自创功能模块/CyberDB/cyberdb/network/route.py\", line 61, in find\n",
      "    await func(self)\n",
      "  File \"/python_dev/自创功能模块/CyberDB/cyberdb/network/route.py\", line 15, in wrapper\n",
      "    server_obj = await func(self, *args, **kw)\n",
      "  File \"/python_dev/自创功能模块/CyberDB/cyberdb/network/route.py\", line 145, in print_tables\n",
      "    print(self._db)\n",
      "TypeError: must be str or None, not int\n",
      "Task exception was never retrieved\n",
      "future: <Task finished name='Task-17' coro=<Server._listener() done, defined at /python_dev/自创功能模块/CyberDB/cyberdb/network/server.py:88> exception=TypeError('must be str or None, not int')>\n",
      "Traceback (most recent call last):\n",
      "  File \"/python_dev/自创功能模块/CyberDB/cyberdb/network/server.py\", line 120, in _listener\n",
      "    await route.find()\n",
      "  File \"/python_dev/自创功能模块/CyberDB/cyberdb/network/route.py\", line 61, in find\n",
      "    await func(self)\n",
      "  File \"/python_dev/自创功能模块/CyberDB/cyberdb/network/route.py\", line 15, in wrapper\n",
      "    server_obj = await func(self, *args, **kw)\n",
      "  File \"/python_dev/自创功能模块/CyberDB/cyberdb/network/route.py\", line 145, in print_tables\n",
      "    for table_name in self._db:\n",
      "TypeError: must be str or None, not int\n"
     ]
    }
   ],
   "source": [
    "# db.save_db()"
   ]
  },
  {
   "cell_type": "code",
   "execution_count": null,
   "metadata": {},
   "outputs": [],
   "source": []
  }
 ],
 "metadata": {
  "interpreter": {
   "hash": "aea8464477a34305423bdb62ce021ce44b0b7c55f8d36bdaa7467ad3a3a01be4"
  },
  "kernelspec": {
   "display_name": "Python 3.8.12 ('venv': venv)",
   "language": "python",
   "name": "python3"
  },
  "language_info": {
   "codemirror_mode": {
    "name": "ipython",
    "version": 3
   },
   "file_extension": ".py",
   "mimetype": "text/x-python",
   "name": "python",
   "nbconvert_exporter": "python",
   "pygments_lexer": "ipython3",
   "version": "3.8.12"
  },
  "orig_nbformat": 4
 },
 "nbformat": 4,
 "nbformat_minor": 2
}
