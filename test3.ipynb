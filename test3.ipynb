{
 "cells": [
  {
   "cell_type": "code",
   "execution_count": 1,
   "metadata": {},
   "outputs": [],
   "source": [
    "import cyberdb\n",
    "\n",
    "client = cyberdb.connect(password='123456', encrypt=True)\n",
    "proxy = client.get_proxy()"
   ]
  },
  {
   "cell_type": "code",
   "execution_count": 2,
   "metadata": {},
   "outputs": [],
   "source": [
    "proxy.connect()"
   ]
  },
  {
   "cell_type": "code",
   "execution_count": 3,
   "metadata": {},
   "outputs": [],
   "source": [
    "dict1 = proxy.get_cyberdict('dict1')\n",
    "list1 = proxy.get_cyberlist('list1')"
   ]
  },
  {
   "cell_type": "code",
   "execution_count": 4,
   "metadata": {},
   "outputs": [
    {
     "data": {
      "text/plain": [
       "{1: 'hello'}"
      ]
     },
     "execution_count": 4,
     "metadata": {},
     "output_type": "execute_result"
    }
   ],
   "source": [
    "dict1"
   ]
  },
  {
   "cell_type": "code",
   "execution_count": 5,
   "metadata": {},
   "outputs": [
    {
     "data": {
      "text/plain": [
       "[0, 0, 0, 0, 0, 0, 0, 0, 0, 0]"
      ]
     },
     "execution_count": 5,
     "metadata": {},
     "output_type": "execute_result"
    }
   ],
   "source": [
    "list1"
   ]
  },
  {
   "cell_type": "code",
   "execution_count": 6,
   "metadata": {},
   "outputs": [
    {
     "data": {
      "text/plain": [
       "cyberdb.network.client.CyberDict"
      ]
     },
     "execution_count": 6,
     "metadata": {},
     "output_type": "execute_result"
    }
   ],
   "source": [
    "type(dict1)"
   ]
  },
  {
   "cell_type": "code",
   "execution_count": 7,
   "metadata": {},
   "outputs": [
    {
     "data": {
      "text/plain": [
       "True"
      ]
     },
     "execution_count": 7,
     "metadata": {},
     "output_type": "execute_result"
    }
   ],
   "source": [
    "type(dict1) == cyberdb.CyberDict"
   ]
  },
  {
   "cell_type": "code",
   "execution_count": 8,
   "metadata": {},
   "outputs": [],
   "source": [
    "test = [i for i in range(10)]"
   ]
  },
  {
   "cell_type": "code",
   "execution_count": 9,
   "metadata": {},
   "outputs": [
    {
     "data": {
      "text/plain": [
       "[0, 1, 2, 3, 4, 5, 6, 7, 8, 9]"
      ]
     },
     "execution_count": 9,
     "metadata": {},
     "output_type": "execute_result"
    }
   ],
   "source": [
    "test"
   ]
  },
  {
   "cell_type": "code",
   "execution_count": 10,
   "metadata": {},
   "outputs": [
    {
     "name": "stdout",
     "output_type": "stream",
     "text": [
      "[{'s': <socket.socket fd=72, family=AddressFamily.AF_INET, type=SocketKind.SOCK_STREAM, proto=0, laddr=('127.0.0.1', 43644), raddr=('127.0.0.1', 9980)>, 'timestamp': None}]\n"
     ]
    }
   ],
   "source": [
    "proxy.close()\n",
    "print(proxy._con_pool._connections)"
   ]
  },
  {
   "cell_type": "code",
   "execution_count": 11,
   "metadata": {},
   "outputs": [
    {
     "name": "stdout",
     "output_type": "stream",
     "text": [
      "<socket.socket fd=72, family=AddressFamily.AF_INET, type=SocketKind.SOCK_STREAM, proto=0, laddr=('127.0.0.1', 43644), raddr=('127.0.0.1', 9980)>\n"
     ]
    }
   ],
   "source": [
    "proxy.connect()\n",
    "print(proxy._con.s)"
   ]
  },
  {
   "cell_type": "code",
   "execution_count": 12,
   "metadata": {},
   "outputs": [
    {
     "data": {
      "text/plain": [
       "[0, 0, 0, 0, 0, 0, 0, 0, 0, 0]"
      ]
     },
     "execution_count": 12,
     "metadata": {},
     "output_type": "execute_result"
    }
   ],
   "source": [
    "list1"
   ]
  },
  {
   "cell_type": "code",
   "execution_count": 13,
   "metadata": {},
   "outputs": [
    {
     "ename": "KeyboardInterrupt",
     "evalue": "",
     "output_type": "error",
     "traceback": [
      "\u001b[0;31m---------------------------------------------------------------------------\u001b[0m",
      "\u001b[0;31mKeyboardInterrupt\u001b[0m                         Traceback (most recent call last)",
      "Input \u001b[0;32mIn [13]\u001b[0m, in \u001b[0;36m<cell line: 1>\u001b[0;34m()\u001b[0m\n\u001b[0;32m----> 1\u001b[0m proxy\u001b[39m.\u001b[39;49mprint_tables()\n",
      "File \u001b[0;32m/python_dev/自创功能模块/CyberDB/cyberdb/network/client.py:554\u001b[0m, in \u001b[0;36mProxy.print_tables\u001b[0;34m(self)\u001b[0m\n\u001b[1;32m    <a href='file:///python_dev/%E8%87%AA%E5%88%9B%E5%8A%9F%E8%83%BD%E6%A8%A1%E5%9D%97/CyberDB/cyberdb/network/client.py?line=547'>548</a>\u001b[0m \u001b[39m@network\u001b[39m\n\u001b[1;32m    <a href='file:///python_dev/%E8%87%AA%E5%88%9B%E5%8A%9F%E8%83%BD%E6%A8%A1%E5%9D%97/CyberDB/cyberdb/network/client.py?line=548'>549</a>\u001b[0m \u001b[39mdef\u001b[39;00m \u001b[39mget_tables\u001b[39m(\u001b[39mself\u001b[39m):\n\u001b[1;32m    <a href='file:///python_dev/%E8%87%AA%E5%88%9B%E5%8A%9F%E8%83%BD%E6%A8%A1%E5%9D%97/CyberDB/cyberdb/network/client.py?line=549'>550</a>\u001b[0m     \u001b[39mreturn\u001b[39;00m {\n\u001b[1;32m    <a href='file:///python_dev/%E8%87%AA%E5%88%9B%E5%8A%9F%E8%83%BD%E6%A8%A1%E5%9D%97/CyberDB/cyberdb/network/client.py?line=550'>551</a>\u001b[0m         \u001b[39m'\u001b[39m\u001b[39mroute\u001b[39m\u001b[39m'\u001b[39m: \u001b[39m'\u001b[39m\u001b[39m/print_tables\u001b[39m\u001b[39m'\u001b[39m\n\u001b[1;32m    <a href='file:///python_dev/%E8%87%AA%E5%88%9B%E5%8A%9F%E8%83%BD%E6%A8%A1%E5%9D%97/CyberDB/cyberdb/network/client.py?line=551'>552</a>\u001b[0m     }\n\u001b[0;32m--> <a href='file:///python_dev/%E8%87%AA%E5%88%9B%E5%8A%9F%E8%83%BD%E6%A8%A1%E5%9D%97/CyberDB/cyberdb/network/client.py?line=553'>554</a>\u001b[0m r \u001b[39m=\u001b[39m get_tables(\u001b[39mself\u001b[39;49m)\n\u001b[1;32m    <a href='file:///python_dev/%E8%87%AA%E5%88%9B%E5%8A%9F%E8%83%BD%E6%A8%A1%E5%9D%97/CyberDB/cyberdb/network/client.py?line=554'>555</a>\u001b[0m \u001b[39mprint\u001b[39m(r)\n",
      "File \u001b[0;32m/python_dev/自创功能模块/CyberDB/cyberdb/network/client.py:89\u001b[0m, in \u001b[0;36mnetwork.<locals>.wrapper\u001b[0;34m(self, *args, **kw)\u001b[0m\n\u001b[1;32m     <a href='file:///python_dev/%E8%87%AA%E5%88%9B%E5%8A%9F%E8%83%BD%E6%A8%A1%E5%9D%97/CyberDB/cyberdb/network/client.py?line=85'>86</a>\u001b[0m client_obj \u001b[39m=\u001b[39m func(\u001b[39mself\u001b[39m, \u001b[39m*\u001b[39margs, \u001b[39m*\u001b[39m\u001b[39m*\u001b[39mkw)\n\u001b[1;32m     <a href='file:///python_dev/%E8%87%AA%E5%88%9B%E5%8A%9F%E8%83%BD%E6%A8%A1%E5%9D%97/CyberDB/cyberdb/network/client.py?line=86'>87</a>\u001b[0m stream\u001b[39m.\u001b[39mwrite(client_obj)\n\u001b[0;32m---> <a href='file:///python_dev/%E8%87%AA%E5%88%9B%E5%8A%9F%E8%83%BD%E6%A8%A1%E5%9D%97/CyberDB/cyberdb/network/client.py?line=88'>89</a>\u001b[0m server_obj \u001b[39m=\u001b[39m stream\u001b[39m.\u001b[39;49mread()\n\u001b[1;32m     <a href='file:///python_dev/%E8%87%AA%E5%88%9B%E5%8A%9F%E8%83%BD%E6%A8%A1%E5%9D%97/CyberDB/cyberdb/network/client.py?line=89'>90</a>\u001b[0m \u001b[39mif\u001b[39;00m server_obj[\u001b[39m'\u001b[39m\u001b[39mcode\u001b[39m\u001b[39m'\u001b[39m] \u001b[39m==\u001b[39m \u001b[39m0\u001b[39m:\n\u001b[1;32m     <a href='file:///python_dev/%E8%87%AA%E5%88%9B%E5%8A%9F%E8%83%BD%E6%A8%A1%E5%9D%97/CyberDB/cyberdb/network/client.py?line=90'>91</a>\u001b[0m     \u001b[39mself\u001b[39m\u001b[39m.\u001b[39m_con\u001b[39m.\u001b[39ms\u001b[39m.\u001b[39mclose()\n",
      "File \u001b[0;32m/python_dev/自创功能模块/CyberDB/cyberdb/network/__init__.py:101\u001b[0m, in \u001b[0;36mStream.read\u001b[0;34m(self)\u001b[0m\n\u001b[1;32m     <a href='file:///python_dev/%E8%87%AA%E5%88%9B%E5%8A%9F%E8%83%BD%E6%A8%A1%E5%9D%97/CyberDB/cyberdb/network/__init__.py?line=98'>99</a>\u001b[0m \u001b[39mdef\u001b[39;00m \u001b[39mread\u001b[39m(\u001b[39mself\u001b[39m) \u001b[39m-\u001b[39m\u001b[39m>\u001b[39m \u001b[39mdict\u001b[39m:\n\u001b[1;32m    <a href='file:///python_dev/%E8%87%AA%E5%88%9B%E5%8A%9F%E8%83%BD%E6%A8%A1%E5%9D%97/CyberDB/cyberdb/network/__init__.py?line=99'>100</a>\u001b[0m     \u001b[39m# Gets the number of times TCP loops to receive data.\u001b[39;00m\n\u001b[0;32m--> <a href='file:///python_dev/%E8%87%AA%E5%88%9B%E5%8A%9F%E8%83%BD%E6%A8%A1%E5%9D%97/CyberDB/cyberdb/network/__init__.py?line=100'>101</a>\u001b[0m     number_of_times \u001b[39m=\u001b[39m \u001b[39mself\u001b[39;49m\u001b[39m.\u001b[39;49m_s\u001b[39m.\u001b[39;49mrecv(SLICE_SIZE)\n\u001b[1;32m    <a href='file:///python_dev/%E8%87%AA%E5%88%9B%E5%8A%9F%E8%83%BD%E6%A8%A1%E5%9D%97/CyberDB/cyberdb/network/__init__.py?line=102'>103</a>\u001b[0m     \u001b[39m# The client actively disconnects.\u001b[39;00m\n\u001b[1;32m    <a href='file:///python_dev/%E8%87%AA%E5%88%9B%E5%8A%9F%E8%83%BD%E6%A8%A1%E5%9D%97/CyberDB/cyberdb/network/__init__.py?line=103'>104</a>\u001b[0m     \u001b[39mif\u001b[39;00m number_of_times \u001b[39m==\u001b[39m \u001b[39mb\u001b[39m\u001b[39m'\u001b[39m\u001b[39m'\u001b[39m:\n",
      "\u001b[0;31mKeyboardInterrupt\u001b[0m: "
     ]
    }
   ],
   "source": [
    "proxy.print_tables()"
   ]
  },
  {
   "cell_type": "code",
   "execution_count": null,
   "metadata": {},
   "outputs": [],
   "source": []
  }
 ],
 "metadata": {
  "interpreter": {
   "hash": "aea8464477a34305423bdb62ce021ce44b0b7c55f8d36bdaa7467ad3a3a01be4"
  },
  "kernelspec": {
   "display_name": "Python 3.8.12 ('venv': venv)",
   "language": "python",
   "name": "python3"
  },
  "language_info": {
   "codemirror_mode": {
    "name": "ipython",
    "version": 3
   },
   "file_extension": ".py",
   "mimetype": "text/x-python",
   "name": "python",
   "nbconvert_exporter": "python",
   "pygments_lexer": "ipython3",
   "version": "3.8.12"
  },
  "orig_nbformat": 4
 },
 "nbformat": 4,
 "nbformat_minor": 2
}
