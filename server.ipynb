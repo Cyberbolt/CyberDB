{
 "cells": [
  {
   "cell_type": "code",
   "execution_count": 1,
   "id": "proof-proof",
   "metadata": {},
   "outputs": [],
   "source": [
    "from cyberdb import DBServer"
   ]
  },
  {
   "cell_type": "code",
   "execution_count": 2,
   "id": "major-story",
   "metadata": {},
   "outputs": [],
   "source": [
    "class Test:\n",
    "    def __init__(self, data):\n",
    "        self.data = data\n",
    "    \n",
    "    def show(self):\n",
    "        return self.data\n",
    "    \n",
    "test = Test({'test': 1})"
   ]
  },
  {
   "cell_type": "code",
   "execution_count": 3,
   "id": "solid-converter",
   "metadata": {},
   "outputs": [
    {
     "name": "stdout",
     "output_type": "stream",
     "text": [
      "File cyberdb_file/backup/data.cdb loaded successfully.\n"
     ]
    }
   ],
   "source": [
    "server = DBServer()\n",
    "# server.create_cyberdict('dict1')\n",
    "# server.create_cyberdict('dict2')\n",
    "# server.create_cyberlist('list1')\n",
    "# server.create_object(type_name='test_dict', obj_name='teset', obj=test)\n",
    "server.load_db()"
   ]
  },
  {
   "cell_type": "code",
   "execution_count": 4,
   "id": "small-technician",
   "metadata": {},
   "outputs": [
    {
     "name": "stdout",
     "output_type": "stream",
     "text": [
      "CyberDB is starting...\n"
     ]
    }
   ],
   "source": [
    "server.start(host='127.0.0.1', password='123123')"
   ]
  },
  {
   "cell_type": "code",
   "execution_count": 5,
   "id": "senior-fundamentals",
   "metadata": {},
   "outputs": [
    {
     "name": "stdout",
     "output_type": "stream",
     "text": [
      "name:dict1  type:CyberDict\n",
      "name:dict2  type:CyberDict\n",
      "name:list1  type:CyberList\n"
     ]
    }
   ],
   "source": [
    "server.show_tables_list()"
   ]
  },
  {
   "cell_type": "code",
   "execution_count": 6,
   "id": "waiting-gossip",
   "metadata": {},
   "outputs": [
    {
     "data": {
      "text/plain": [
       "{'CyberDict': {'dict1': {0: 'dict1', '测试': '大数据'}, 'dict2': {0: 'dict2'}},\n",
       " 'CyberList': {'list1': [[0, 0, 0, 0, 0],\n",
       "   [0, 0, 0, 0, 0],\n",
       "   [0, 0, 0, 0, 0],\n",
       "   [1, 1, 1, 1, 1],\n",
       "   [0, 0, 0, 0, 1],\n",
       "   [0, 0, 0, 0, 0],\n",
       "   [0, 0, 0, 0, 0],\n",
       "   [0, 0, 0, 0, 0],\n",
       "   [0, 0, 0, 0, 0],\n",
       "   [0, 0, 0, 0, 0],\n",
       "   [0, 0, 0, 0, 0],\n",
       "   [0, 0, 0, 0, 0],\n",
       "   [0, 0, 0, 0, 0],\n",
       "   [0, 0, 0, 0, 0],\n",
       "   [0, 0, 0, 0, 0]]}}"
      ]
     },
     "execution_count": 6,
     "metadata": {},
     "output_type": "execute_result"
    }
   ],
   "source": [
    "server.get_data()"
   ]
  },
  {
   "cell_type": "code",
   "execution_count": 7,
   "id": "variable-disposition",
   "metadata": {},
   "outputs": [],
   "source": [
    "# server.save_db()"
   ]
  },
  {
   "cell_type": "code",
   "execution_count": null,
   "id": "911ecdd3-0fcc-4ede-b784-94e2d605ed4f",
   "metadata": {},
   "outputs": [],
   "source": []
  }
 ],
 "metadata": {
  "kernelspec": {
   "display_name": "Python 3 (ipykernel)",
   "language": "python",
   "name": "python3"
  },
  "language_info": {
   "codemirror_mode": {
    "name": "ipython",
    "version": 3
   },
   "file_extension": ".py",
   "mimetype": "text/x-python",
   "name": "python",
   "nbconvert_exporter": "python",
   "pygments_lexer": "ipython3",
   "version": "3.8.6"
  }
 },
 "nbformat": 4,
 "nbformat_minor": 5
}
