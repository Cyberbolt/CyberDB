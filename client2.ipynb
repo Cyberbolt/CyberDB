{
 "cells": [
  {
   "cell_type": "code",
   "execution_count": 1,
   "id": "f7e7c0c6-e424-45da-8e89-e2d1bff4b608",
   "metadata": {},
   "outputs": [],
   "source": [
    "from cyberdb import DBClient"
   ]
  },
  {
   "cell_type": "code",
   "execution_count": 2,
   "id": "cedc84e6-6897-4c9d-ad8b-afe6ce9a3400",
   "metadata": {},
   "outputs": [],
   "source": [
    "client = DBClient()"
   ]
  },
  {
   "cell_type": "code",
   "execution_count": 3,
   "id": "1669666e-1682-4671-b9a4-034dc0e9a1dd",
   "metadata": {},
   "outputs": [],
   "source": [
    "client.load_config('cyberdb_file/config.cdb')"
   ]
  },
  {
   "cell_type": "code",
   "execution_count": 4,
   "id": "ebe8b3b4-7283-4096-b76a-a05d06f7a6e3",
   "metadata": {},
   "outputs": [],
   "source": [
    "db = client.connect(password='123123')"
   ]
  },
  {
   "cell_type": "code",
   "execution_count": 5,
   "id": "5715d5f8-d4fa-4b28-9aff-085777af7c1c",
   "metadata": {},
   "outputs": [
    {
     "data": {
      "text/plain": [
       "<cyberdb.tool.Demo at 0xffff5fb4cfa0>"
      ]
     },
     "execution_count": 5,
     "metadata": {},
     "output_type": "execute_result"
    }
   ],
   "source": [
    "db"
   ]
  },
  {
   "cell_type": "code",
   "execution_count": 6,
   "id": "1478a468-d345-4d98-8230-66a4d51e0d04",
   "metadata": {},
   "outputs": [],
   "source": [
    "dict1 = db.CyberDict.dict1\n",
    "dict2 = db.CyberDict.dict2\n",
    "list1 = db.CyberList.list1"
   ]
  },
  {
   "cell_type": "code",
   "execution_count": 7,
   "id": "7bb91faf-4c31-4ff9-892b-077126d840b6",
   "metadata": {},
   "outputs": [],
   "source": [
    "dict1 = db['CyberDict']['dict1']\n",
    "dict2 = db['CyberDict']['dict2']\n",
    "list1 = db['CyberList']['list1']"
   ]
  },
  {
   "cell_type": "code",
   "execution_count": 29,
   "id": "68343e48-103a-4a79-a9d7-1de16853eee3",
   "metadata": {},
   "outputs": [
    {
     "name": "stdout",
     "output_type": "stream",
     "text": [
      "正在重试连接\n",
      "成功\n"
     ]
    },
    {
     "ename": "RemoteError",
     "evalue": "\n---------------------------------------------------------------------------\nTraceback (most recent call last):\n  File \"/usr/local/lib/python3.8/multiprocessing/managers.py\", line 250, in serve_client\n    self.id_to_local_proxy_obj[ident]\nKeyError: 'ffffa23fdd10'\n\nDuring handling of the above exception, another exception occurred:\n\nTraceback (most recent call last):\n  File \"/usr/local/lib/python3.8/multiprocessing/managers.py\", line 252, in serve_client\n    raise ke\n  File \"/usr/local/lib/python3.8/multiprocessing/managers.py\", line 246, in serve_client\n    obj, exposed, gettypeid = id_to_obj[ident]\nKeyError: 'ffffa23fdd10'\n---------------------------------------------------------------------------",
     "output_type": "error",
     "traceback": [
      "\u001b[0;31m---------------------------------------------------------------------------\u001b[0m",
      "\u001b[0;31mRemoteError\u001b[0m                               Traceback (most recent call last)",
      "Input \u001b[0;32mIn [29]\u001b[0m, in \u001b[0;36m<module>\u001b[0;34m\u001b[0m\n\u001b[0;32m----> 1\u001b[0m \u001b[43mdict1\u001b[49m\u001b[38;5;241;43m.\u001b[39;49m\u001b[43mput\u001b[49m\u001b[43m(\u001b[49m\u001b[38;5;241;43m0\u001b[39;49m\u001b[43m,\u001b[49m\u001b[43m \u001b[49m\u001b[38;5;124;43m'\u001b[39;49m\u001b[38;5;124;43mdict1\u001b[39;49m\u001b[38;5;124;43m'\u001b[39;49m\u001b[43m)\u001b[49m\n\u001b[1;32m      2\u001b[0m dict2\u001b[38;5;241m.\u001b[39mput(\u001b[38;5;241m0\u001b[39m, \u001b[38;5;124m'\u001b[39m\u001b[38;5;124mdict2\u001b[39m\u001b[38;5;124m'\u001b[39m)\n",
      "File \u001b[0;32m<string>:2\u001b[0m, in \u001b[0;36mput\u001b[0;34m(self, *args, **kwds)\u001b[0m\n",
      "File \u001b[0;32m/app/cyberdb/mymanager.py:66\u001b[0m, in \u001b[0;36m_callmethod\u001b[0;34m(self, methodname, args, kwds)\u001b[0m\n\u001b[1;32m     64\u001b[0m     dispatcher(conn, \u001b[38;5;28;01mNone\u001b[39;00m, \u001b[38;5;124m'\u001b[39m\u001b[38;5;124mdecref\u001b[39m\u001b[38;5;124m'\u001b[39m, (token\u001b[38;5;241m.\u001b[39mid,))\n\u001b[1;32m     65\u001b[0m     \u001b[38;5;28;01mreturn\u001b[39;00m proxy\n\u001b[0;32m---> 66\u001b[0m \u001b[38;5;28;01mraise\u001b[39;00m convert_to_error(kind, result)\n",
      "\u001b[0;31mRemoteError\u001b[0m: \n---------------------------------------------------------------------------\nTraceback (most recent call last):\n  File \"/usr/local/lib/python3.8/multiprocessing/managers.py\", line 250, in serve_client\n    self.id_to_local_proxy_obj[ident]\nKeyError: 'ffffa23fdd10'\n\nDuring handling of the above exception, another exception occurred:\n\nTraceback (most recent call last):\n  File \"/usr/local/lib/python3.8/multiprocessing/managers.py\", line 252, in serve_client\n    raise ke\n  File \"/usr/local/lib/python3.8/multiprocessing/managers.py\", line 246, in serve_client\n    obj, exposed, gettypeid = id_to_obj[ident]\nKeyError: 'ffffa23fdd10'\n---------------------------------------------------------------------------"
     ]
    }
   ],
   "source": [
    "dict1.put(0, 'dict1')\n",
    "dict2.put(0, 'dict2')"
   ]
  },
  {
   "cell_type": "code",
   "execution_count": 9,
   "id": "bad956e8-bb10-417b-b1bb-e982b60a3148",
   "metadata": {
    "tags": []
   },
   "outputs": [
    {
     "name": "stdout",
     "output_type": "stream",
     "text": [
      "成功\n"
     ]
    },
    {
     "data": {
      "text/plain": [
       "'dict1'"
      ]
     },
     "execution_count": 9,
     "metadata": {},
     "output_type": "execute_result"
    }
   ],
   "source": [
    "dict1.get(0)"
   ]
  },
  {
   "cell_type": "code",
   "execution_count": 10,
   "id": "03fe4807-6ab7-4057-a861-81d55e3bd945",
   "metadata": {},
   "outputs": [
    {
     "name": "stdout",
     "output_type": "stream",
     "text": [
      "成功\n"
     ]
    },
    {
     "data": {
      "text/plain": [
       "'dict2'"
      ]
     },
     "execution_count": 10,
     "metadata": {},
     "output_type": "execute_result"
    }
   ],
   "source": [
    "dict2.get(0)"
   ]
  },
  {
   "cell_type": "code",
   "execution_count": 11,
   "id": "4f3abaa3-25fd-4be1-8b15-1bc970ad145e",
   "metadata": {},
   "outputs": [
    {
     "name": "stdout",
     "output_type": "stream",
     "text": [
      "成功\n"
     ]
    }
   ],
   "source": [
    "dict1.get('dic1')"
   ]
  },
  {
   "cell_type": "code",
   "execution_count": 12,
   "id": "565f723d-311c-4f85-965b-b7cb56481170",
   "metadata": {},
   "outputs": [
    {
     "name": "stdout",
     "output_type": "stream",
     "text": [
      "成功\n"
     ]
    },
    {
     "data": {
      "text/plain": [
       "{0: 'dict1', '测试': '大数据'}"
      ]
     },
     "execution_count": 12,
     "metadata": {},
     "output_type": "execute_result"
    }
   ],
   "source": [
    "dict1.show()"
   ]
  },
  {
   "cell_type": "code",
   "execution_count": 13,
   "id": "9b458657-0eea-4a2a-b5b3-f28d32c2fc5e",
   "metadata": {},
   "outputs": [
    {
     "name": "stdout",
     "output_type": "stream",
     "text": [
      "成功\n",
      "成功\n",
      "成功\n"
     ]
    },
    {
     "data": {
      "text/plain": [
       "{'CyberDict': {'dict1': {0: 'dict1', '测试': '大数据'}, 'dict2': {0: 'dict2'}},\n",
       " 'CyberList': {'list1': [[0, 0, 0, 0, 0],\n",
       "   [0, 0, 0, 0, 0],\n",
       "   [0, 0, 0, 0, 0],\n",
       "   [1, 1, 1, 1, 1],\n",
       "   [0, 0, 0, 0, 1],\n",
       "   [0, 0, 0, 0, 0],\n",
       "   [0, 0, 0, 0, 0],\n",
       "   [0, 0, 0, 0, 0],\n",
       "   [0, 0, 0, 0, 0],\n",
       "   [0, 0, 0, 0, 0],\n",
       "   [0, 0, 0, 0, 0],\n",
       "   [0, 0, 0, 0, 0],\n",
       "   [0, 0, 0, 0, 0],\n",
       "   [0, 0, 0, 0, 0],\n",
       "   [0, 0, 0, 0, 0]]}}"
      ]
     },
     "execution_count": 13,
     "metadata": {},
     "output_type": "execute_result"
    }
   ],
   "source": [
    "client.get_data()"
   ]
  },
  {
   "cell_type": "code",
   "execution_count": 14,
   "id": "b48d5ff0-63cb-4bdd-baa9-886fe0342059",
   "metadata": {},
   "outputs": [
    {
     "data": {
      "text/plain": [
       "<AutoProxy[dict1] object, typeid 'dict1' at 0xffff5fbc3c10>"
      ]
     },
     "execution_count": 14,
     "metadata": {},
     "output_type": "execute_result"
    }
   ],
   "source": [
    "db.CyberDict.dict1"
   ]
  },
  {
   "cell_type": "code",
   "execution_count": 15,
   "id": "cd42b0cd-1043-4161-884e-308f2b8a0d8e",
   "metadata": {},
   "outputs": [],
   "source": [
    "list1 = db['CyberList']['list1']"
   ]
  },
  {
   "cell_type": "code",
   "execution_count": 16,
   "id": "2b0c636e-9993-4b47-91b0-b290282cfde1",
   "metadata": {},
   "outputs": [
    {
     "data": {
      "text/plain": [
       "<AutoProxy[list1] object, typeid 'list1' at 0xffff5fbbd640>"
      ]
     },
     "execution_count": 16,
     "metadata": {},
     "output_type": "execute_result"
    }
   ],
   "source": [
    "db.CyberList.list1"
   ]
  },
  {
   "cell_type": "code",
   "execution_count": 17,
   "id": "d3c31ceb-0dd9-490c-8fb0-824c45e9c906",
   "metadata": {},
   "outputs": [
    {
     "name": "stdout",
     "output_type": "stream",
     "text": [
      "成功\n"
     ]
    },
    {
     "data": {
      "text/plain": [
       "[[0, 0, 0, 0, 0],\n",
       " [0, 0, 0, 0, 0],\n",
       " [0, 0, 0, 0, 0],\n",
       " [1, 1, 1, 1, 1],\n",
       " [0, 0, 0, 0, 1],\n",
       " [0, 0, 0, 0, 0],\n",
       " [0, 0, 0, 0, 0],\n",
       " [0, 0, 0, 0, 0],\n",
       " [0, 0, 0, 0, 0],\n",
       " [0, 0, 0, 0, 0],\n",
       " [0, 0, 0, 0, 0],\n",
       " [0, 0, 0, 0, 0],\n",
       " [0, 0, 0, 0, 0],\n",
       " [0, 0, 0, 0, 0],\n",
       " [0, 0, 0, 0, 0]]"
      ]
     },
     "execution_count": 17,
     "metadata": {},
     "output_type": "execute_result"
    }
   ],
   "source": [
    "list1.show()"
   ]
  },
  {
   "cell_type": "code",
   "execution_count": 18,
   "id": "da7f00a3-de6d-40ad-b388-baf65e754bd7",
   "metadata": {},
   "outputs": [
    {
     "name": "stdout",
     "output_type": "stream",
     "text": [
      "成功\n"
     ]
    },
    {
     "data": {
      "text/plain": [
       "0"
      ]
     },
     "execution_count": 18,
     "metadata": {},
     "output_type": "execute_result"
    }
   ],
   "source": [
    "list1.loc_form(2, 3)"
   ]
  },
  {
   "cell_type": "code",
   "execution_count": 19,
   "id": "283df082-9cda-4284-b16b-db26075280d2",
   "metadata": {},
   "outputs": [
    {
     "name": "stdout",
     "output_type": "stream",
     "text": [
      "成功\n"
     ]
    },
    {
     "data": {
      "text/plain": [
       "[[0, 0, 0, 0, 0]]"
      ]
     },
     "execution_count": 19,
     "metadata": {},
     "output_type": "execute_result"
    }
   ],
   "source": [
    "list1.slice(-1,)"
   ]
  },
  {
   "cell_type": "code",
   "execution_count": 20,
   "id": "9930bf86-ec06-445b-84b9-4b692c169f60",
   "metadata": {},
   "outputs": [
    {
     "name": "stdout",
     "output_type": "stream",
     "text": [
      "name:dict1  type:CyberDict\n",
      "name:dict2  type:CyberDict\n",
      "name:list1  type:CyberList\n"
     ]
    }
   ],
   "source": [
    "client.show_tables_list()"
   ]
  },
  {
   "cell_type": "code",
   "execution_count": 21,
   "id": "5a9c0e7a-2b61-4a21-8ebd-08b63e86fb28",
   "metadata": {},
   "outputs": [],
   "source": [
    "from cyberdb import generate"
   ]
  },
  {
   "cell_type": "code",
   "execution_count": 22,
   "id": "3948dea6-e2b3-4339-a941-f247014f4f16",
   "metadata": {},
   "outputs": [
    {
     "name": "stdout",
     "output_type": "stream",
     "text": [
      "成功\n",
      "成功\n",
      "成功\n",
      "成功\n",
      "[0, 0, 0, 0, 0]\n",
      "成功\n",
      "[0, 0, 0, 0, 0]\n",
      "成功\n",
      "[0, 0, 0, 0, 0]\n",
      "成功\n",
      "[1, 1, 1, 1, 1]\n",
      "成功\n",
      "[0, 0, 0, 0, 1]\n",
      "成功\n",
      "[0, 0, 0, 0, 0]\n",
      "成功\n",
      "[0, 0, 0, 0, 0]\n",
      "成功\n",
      "[0, 0, 0, 0, 0]\n",
      "成功\n",
      "[0, 0, 0, 0, 0]\n",
      "成功\n",
      "[0, 0, 0, 0, 0]\n",
      "成功\n",
      "[0, 0, 0, 0, 0]\n",
      "成功\n",
      "[0, 0, 0, 0, 0]\n",
      "成功\n",
      "[0, 0, 0, 0, 0]\n",
      "成功\n",
      "[0, 0, 0, 0, 0]\n",
      "成功\n",
      "[0, 0, 0, 0, 0]\n"
     ]
    }
   ],
   "source": [
    "for v in generate(list1):\n",
    "    print(v)"
   ]
  },
  {
   "cell_type": "code",
   "execution_count": 23,
   "id": "c495d714-b3ca-4931-aec4-fb7ea5b7941d",
   "metadata": {},
   "outputs": [
    {
     "name": "stdout",
     "output_type": "stream",
     "text": [
      "成功\n"
     ]
    },
    {
     "data": {
      "text/plain": [
       "[[1, 1, 1, 1, 1], [0, 0, 0, 0, 1]]"
      ]
     },
     "execution_count": 23,
     "metadata": {},
     "output_type": "execute_result"
    }
   ],
   "source": [
    "list1.box('[3:5]')"
   ]
  },
  {
   "cell_type": "code",
   "execution_count": 24,
   "id": "9edb0c7a-7539-450c-8f34-a1d2faa8995a",
   "metadata": {},
   "outputs": [],
   "source": [
    "dict1 = db['CyberDict']['dict1']"
   ]
  },
  {
   "cell_type": "code",
   "execution_count": 25,
   "id": "335ef057-f816-4b73-be4d-245860b5a05e",
   "metadata": {},
   "outputs": [
    {
     "name": "stdout",
     "output_type": "stream",
     "text": [
      "成功\n"
     ]
    },
    {
     "data": {
      "text/plain": [
       "{0: 'dict1', '测试': '大数据'}"
      ]
     },
     "execution_count": 25,
     "metadata": {},
     "output_type": "execute_result"
    }
   ],
   "source": [
    "dict1.show()"
   ]
  },
  {
   "cell_type": "code",
   "execution_count": 26,
   "id": "04615807-d312-4a05-8068-fcb1a7738b3f",
   "metadata": {},
   "outputs": [
    {
     "name": "stdout",
     "output_type": "stream",
     "text": [
      "成功\n"
     ]
    },
    {
     "data": {
      "text/plain": [
       "'大数据'"
      ]
     },
     "execution_count": 26,
     "metadata": {},
     "output_type": "execute_result"
    }
   ],
   "source": [
    "dict1.box('[\"测试\"]')"
   ]
  },
  {
   "cell_type": "code",
   "execution_count": 27,
   "id": "c18b2baa-bd6d-42a3-aa58-1bf6af1a48f6",
   "metadata": {},
   "outputs": [
    {
     "data": {
      "text/plain": [
       "<AutoProxy[list1] object, typeid 'list1' at 0xffff5fbbd640>"
      ]
     },
     "execution_count": 27,
     "metadata": {},
     "output_type": "execute_result"
    }
   ],
   "source": [
    "client.get_db().CyberList.list1"
   ]
  },
  {
   "cell_type": "code",
   "execution_count": null,
   "id": "4ab8f434-f136-4ae9-a3a4-e9e1ec05f9e3",
   "metadata": {},
   "outputs": [],
   "source": []
  }
 ],
 "metadata": {
  "kernelspec": {
   "display_name": "Python 3 (ipykernel)",
   "language": "python",
   "name": "python3"
  },
  "language_info": {
   "codemirror_mode": {
    "name": "ipython",
    "version": 3
   },
   "file_extension": ".py",
   "mimetype": "text/x-python",
   "name": "python",
   "nbconvert_exporter": "python",
   "pygments_lexer": "ipython3",
   "version": "3.8.6"
  }
 },
 "nbformat": 4,
 "nbformat_minor": 5
}
