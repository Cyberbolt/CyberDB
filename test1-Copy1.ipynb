{
 "cells": [
  {
   "cell_type": "code",
   "execution_count": 1,
   "id": "0a36ee6c-1a8f-436d-bed8-6beb95dbbc60",
   "metadata": {},
   "outputs": [],
   "source": [
    "from multiprocessing.managers import BaseManager"
   ]
  },
  {
   "cell_type": "code",
   "execution_count": 2,
   "id": "517f11e1-62ac-4905-bbe5-a07bef574bf2",
   "metadata": {},
   "outputs": [],
   "source": [
    "from cyberdict import CyberDict"
   ]
  },
  {
   "cell_type": "code",
   "execution_count": 3,
   "id": "c8f874b6-45f4-4a10-9dbb-12d882c4bf78",
   "metadata": {},
   "outputs": [],
   "source": [
    "data = CyberDict()"
   ]
  },
  {
   "cell_type": "code",
   "execution_count": 4,
   "id": "40c797f6-b197-43bb-990d-61a984faff42",
   "metadata": {},
   "outputs": [],
   "source": [
    "data.put('a', CyberDict({'1': 1}))"
   ]
  },
  {
   "cell_type": "code",
   "execution_count": 5,
   "id": "4a463c18-f09d-4338-b100-bb15e4dc2fe2",
   "metadata": {},
   "outputs": [],
   "source": [
    "class MyManager(BaseManager):\n",
    "    pass"
   ]
  },
  {
   "cell_type": "code",
   "execution_count": 6,
   "id": "fe696d97-9be1-46f3-829a-0793cb3f8e96",
   "metadata": {},
   "outputs": [],
   "source": [
    "MyManager.register('test', callable=lambda: data)"
   ]
  },
  {
   "cell_type": "code",
   "execution_count": 7,
   "id": "925f9735-e9b8-4dba-b787-250756d3f4a1",
   "metadata": {},
   "outputs": [],
   "source": [
    "m = MyManager(address=('', 50000), authkey=b'abracadabra')"
   ]
  },
  {
   "cell_type": "code",
   "execution_count": 8,
   "id": "0e8e666b-ca3b-4d97-9975-8c82d606749b",
   "metadata": {},
   "outputs": [],
   "source": [
    "m.start()"
   ]
  },
  {
   "cell_type": "code",
   "execution_count": 9,
   "id": "a5517d51-3e68-468b-a307-89740af5af63",
   "metadata": {},
   "outputs": [],
   "source": [
    "t = m.test()"
   ]
  },
  {
   "cell_type": "code",
   "execution_count": 11,
   "id": "73e0954d-2b6e-4fb5-ba3c-d620a6a20051",
   "metadata": {},
   "outputs": [
    {
     "name": "stdout",
     "output_type": "stream",
     "text": [
      "<cyberdict.cyberdict.CyberDict object at 0xffffa0466c40>\n"
     ]
    }
   ],
   "source": [
    "print(t)"
   ]
  },
  {
   "cell_type": "code",
   "execution_count": null,
   "id": "cf03a997-4b44-4e8a-ab12-d6c3505df230",
   "metadata": {},
   "outputs": [],
   "source": []
  }
 ],
 "metadata": {
  "kernelspec": {
   "display_name": "Python 3 (ipykernel)",
   "language": "python",
   "name": "python3"
  },
  "language_info": {
   "codemirror_mode": {
    "name": "ipython",
    "version": 3
   },
   "file_extension": ".py",
   "mimetype": "text/x-python",
   "name": "python",
   "nbconvert_exporter": "python",
   "pygments_lexer": "ipython3",
   "version": "3.8.6"
  }
 },
 "nbformat": 4,
 "nbformat_minor": 5
}
