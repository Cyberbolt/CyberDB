{
 "cells": [
  {
   "cell_type": "markdown",
   "id": "a3aea32a-c95a-4772-9b4b-da5b77ba4d60",
   "metadata": {},
   "source": [
    "# CyberDB\n",
    "\n",
    "CyberDB 是基于 Python 的内存数据库。你可以使用 Python 内置数据结构 Dictionaries、Lists 作为数据存储，并支持数据持久化。进程间通过 Socket TCP 通信，拥有极高的性能。此外，你可以基于该模块定制自己的数据结构，支持 Gunicorn 进程间通信、分布式计算、机器学习模型部署等。\n",
    "\n",
    "### 安装方法\n",
    "\n",
    "1.进入命令窗口，创建虚拟环境，依次输入以下命令\n",
    "\n",
    "Linux 和 macOS:\n"
   ]
  },
  {
   "cell_type": "code",
   "execution_count": null,
   "id": "6b06a807-424a-47cc-9407-f2eba40622f5",
   "metadata": {},
   "outputs": [],
   "source": [
    "python3 -m venv venv #创建虚拟环境\n",
    ". venv/bin/activate #激活虚拟环境"
   ]
  },
  {
   "cell_type": "markdown",
   "id": "b2e97cdd",
   "metadata": {},
   "source": [
    "Windows:"
   ]
  },
  {
   "cell_type": "code",
   "execution_count": null,
   "id": "2a135e90",
   "metadata": {},
   "outputs": [],
   "source": [
    "python -m venv venv #创建虚拟环境\n",
    "venv\\Scripts\\activate #激活虚拟环境"
   ]
  },
  {
   "cell_type": "markdown",
   "id": "0627faa1",
   "metadata": {},
   "source": [
    "2.安装 CyberDB，依次输入"
   ]
  },
  {
   "cell_type": "code",
   "execution_count": null,
   "id": "fea4e025",
   "metadata": {},
   "outputs": [],
   "source": [
    "pip install --upgrade pip\n",
    "pip install cyberdb"
   ]
  },
  {
   "cell_type": "markdown",
   "id": "cfb86ad8",
   "metadata": {},
   "source": [
    "如果你的服务端和客户端在两个不同的项目目录运行，请分别在服务端、客户端的虚拟环境中安装 CyberDB。\n",
    "\n",
    "### 快速使用\n",
    "\n",
    "在该模块中，请使用 CyberDict 和 CyberList 替代 dict 和 list （一种基于 TCP 的类 Dictionaries、类 Lists 对象）。\n",
    "\n",
    "#### 服务端\n"
   ]
  },
  {
   "cell_type": "markdown",
   "id": "870ae0c4-7570-4015-8c48-393d54b86039",
   "metadata": {},
   "source": [
    "首先单独开一个 py 文件，用于服务端初始化时创建数据库表，运行服务端后保存所建表到本地。（该文件只在建表时使用，后续将不会运行）"
   ]
  },
  {
   "cell_type": "code",
   "execution_count": 1,
   "id": "782bea2a-da6c-4aa6-94dc-f1c562ca6032",
   "metadata": {},
   "outputs": [
    {
     "name": "stdout",
     "output_type": "stream",
     "text": [
      "CyberDB is starting...\n",
      "Server stopped.\n"
     ]
    }
   ],
   "source": [
    "from cyberdb import DBServer\n",
    "\n",
    "server = DBServer()\n",
    "server.create_cyberdict('dict1') # 创建名为 dict1 的数据库表\n",
    "server.create_cyberdict('dict2') # 创建名为 dict2 的数据库表\n",
    "server.create_cyberlist('list1') # 创建名为 list1 的数据库表\n",
    "server.start(password='123123') # 后台运行服务器\n",
    "'''\n",
    "本次运行只是初始化时保存表，密码可随意设置，之后不会用到\n",
    "'''\n",
    "server.save_db() # 保存服务器数据到本地\n",
    "server.stop() #停止运行服务器"
   ]
  },
  {
   "cell_type": "markdown",
   "id": "986ed793",
   "metadata": {},
   "source": [
    "服务端运行后，会在项目根目录下创建 cyberdb_file 目录（请勿删除），生成**客户端配置文件** cyberdb_file/config.cdb (客户端运行依赖于此文件)，数据库持久化的默认文件为 cyberdb_file/backup/data.cdb "
   ]
  },
  {
   "cell_type": "code",
   "execution_count": 2,
   "id": "66ceb4e8",
   "metadata": {},
   "outputs": [
    {
     "name": "stdout",
     "output_type": "stream",
     "text": [
      "File cyberdb_file/backup/data.cdb loaded successfully.\n",
      "CyberDB is starting...\n",
      "The backup cycle: 900s\n",
      "\n"
     ]
    }
   ],
   "source": [
    "from cyberdb import DBServer\n",
    "\n",
    "server = DBServer()\n",
    "server.load_db() # 会自动加载 cyberdb_file/backup/data.cdb\n",
    "server.start(host='127.0.0.1', password='123123', port=9980)\n",
    "'''\n",
    "启动服务器，填写运行地址、密码和端口号\n",
    "若使用 server.start(password='123123')，则将以默认地址 127.0.0.1 和端口 9980 运行\n",
    "'''\n",
    "server.set_backup(period=900)\n",
    "'''\n",
    "设置数据库备份，默认时间 900s 一次，永久备份直至服务端停止运行\n",
    "如果不调用此接口，将不会数据持久化\n",
    "如果想停止正在运行的备份，请调用 server.set_backup(period=None)\n",
    "'''\n",
    "# 如果你的程序不会永久在后台运行，请增加以下命令让程序永久运行\n",
    "import time\n",
    "while True:\n",
    "    time.sleep(1000000000)"
   ]
  },
  {
   "cell_type": "markdown",
   "id": "b493a0a0",
   "metadata": {},
   "source": [
    "数据库备份的默认文件为 cyberdb_file/backup/data.cdb (该文件将在设置的备份时间自动备份或更新)\n",
    "\n",
    "#### 客户端\n",
    "\n",
    "将服务端的 cyberdb_file 拷贝至客户端的项目根目录中(如果使用同一个项目目录作为服务端和客户端，则不需要拷贝)\n",
    "\n",
    "连接数据库\n"
   ]
  },
  {
   "cell_type": "code",
   "execution_count": 3,
   "id": "893c57d4",
   "metadata": {},
   "outputs": [
    {
     "name": "stdout",
     "output_type": "stream",
     "text": [
      "\n"
     ]
    }
   ],
   "source": [
    "from cyberdb import DBClient\n",
    "client = DBClient()\n",
    "client.load_config('cyberdb_file/config.cdb') \n",
    "'''\n",
    "加载配置文件 config.cdb\n",
    "配置文件路径的默认值为 cyberdb_file/config.cdb ,此处路径如果一致，则无需填写参数。\n",
    "'''\n",
    "db = client.connect(host='127.0.0.1', password='123123', port=9980)\n",
    "'''\n",
    "输入服务端配置的地址、密码和端口号，获取连接的数据库实例 db\n",
    "若使用 db = client.connect(password='123123')，将连接默认地址 127.0.0.1 \n",
    "和端口 9980\n",
    "'''"
   ]
  },
  {
   "cell_type": "markdown",
   "id": "49159300",
   "metadata": {},
   "source": [
    "操作 CyberDict 和 CyberList"
   ]
  },
  {
   "cell_type": "code",
   "execution_count": 4,
   "id": "5c698558",
   "metadata": {},
   "outputs": [],
   "source": [
    "dict1 = db.CyberDict.dict1\n",
    "dict2 = db.CyberDict.dict2\n",
    "list1 = db.CyberList.list1"
   ]
  },
  {
   "cell_type": "markdown",
   "id": "d8b592a5",
   "metadata": {},
   "source": [
    "该命令能获取服务端创建的数据库表，格式为 数据库实例.数据类型.表名\n",
    "也可以使用以下命令获取"
   ]
  },
  {
   "cell_type": "code",
   "execution_count": 5,
   "id": "d32b3444",
   "metadata": {},
   "outputs": [],
   "source": [
    "dict1 = db['CyberDict']['dict1']\n",
    "dict2 = db['CyberDict']['dict2']\n",
    "list1 = db['CyberList']['list1']"
   ]
  },
  {
   "cell_type": "markdown",
   "id": "3af0e0a9",
   "metadata": {},
   "source": [
    "这里获取的 dict1、dict2、list1 均为网络对象，调用对象的方法，则是和数据库远程交互"
   ]
  },
  {
   "cell_type": "markdown",
   "id": "0f7bc2ae",
   "metadata": {},
   "source": [
    "在 dict1 和 dict2 中新增键值对"
   ]
  },
  {
   "cell_type": "code",
   "execution_count": 6,
   "id": "e6ae8b8f",
   "metadata": {},
   "outputs": [],
   "source": [
    "dict1.put(0, 'dict1')\n",
    "dict1.put(10, 'test')\n",
    "dict2.put(0, 'dict2')"
   ]
  },
  {
   "cell_type": "markdown",
   "id": "a2c9c121",
   "metadata": {},
   "source": [
    "获取对应的值"
   ]
  },
  {
   "cell_type": "code",
   "execution_count": 7,
   "id": "a87009f7",
   "metadata": {},
   "outputs": [
    {
     "data": {
      "text/plain": [
       "'dict1'"
      ]
     },
     "execution_count": 7,
     "metadata": {},
     "output_type": "execute_result"
    }
   ],
   "source": [
    "dict1.get(0)"
   ]
  },
  {
   "cell_type": "code",
   "execution_count": 8,
   "id": "2aa39bc1",
   "metadata": {},
   "outputs": [
    {
     "data": {
      "text/plain": [
       "'dict2'"
      ]
     },
     "execution_count": 8,
     "metadata": {},
     "output_type": "execute_result"
    }
   ],
   "source": [
    "dict2.get(0)"
   ]
  },
  {
   "cell_type": "markdown",
   "id": "5f80be89",
   "metadata": {},
   "source": [
    "我们使用 show 方法看看 dict1 和 dict2 的表内容"
   ]
  },
  {
   "cell_type": "code",
   "execution_count": 9,
   "id": "b35f79ab",
   "metadata": {},
   "outputs": [
    {
     "data": {
      "text/plain": [
       "{0: 'dict1', 10: 'test'}"
      ]
     },
     "execution_count": 9,
     "metadata": {},
     "output_type": "execute_result"
    }
   ],
   "source": [
    "dict1.show()"
   ]
  },
  {
   "cell_type": "code",
   "execution_count": 10,
   "id": "1e442093",
   "metadata": {},
   "outputs": [
    {
     "data": {
      "text/plain": [
       "{0: 'dict2'}"
      ]
     },
     "execution_count": 10,
     "metadata": {},
     "output_type": "execute_result"
    }
   ],
   "source": [
    "dict2.show()"
   ]
  },
  {
   "cell_type": "markdown",
   "id": "48e7e029",
   "metadata": {},
   "source": [
    "此处的 show 方法可以直接提取出表中的数据(这里是 dict)，可以进行任何 dict 操作。此处执行为:从数据库中将变量复制到客户端。如果你的服务端和客户端使用的同一台机器，会占用2倍内存，相同主机中不建议频繁使用 show 方法。\n",
    "\n",
    "CyberDict 和 CyberList 本身支持 dict 和 list 的所有公有方法(如 dict.get(key), dict.items(), list.append(v), list.pop() 等)，使用任何公有方法都是基于 TCP 的数据交互。所以不支持迭代、不支持私有方法(Python 魔术方法)，不能使用 dict[key] 和 list[index] 访问数据。CyberDB 给出了相应的办法替代，请仔细阅读本文。(如果你执意要用魔术方法，CyberDB 的官方文档中提供了相应 API)\n",
    "\n",
    "注:使用 show 方法可以复制表中的变量到客户端本地，show 方法得到的变量是完整的 dict 或 list 对象，可以执行任何 Python 操作。如:"
   ]
  },
  {
   "cell_type": "code",
   "execution_count": 11,
   "id": "e46ee0ce",
   "metadata": {},
   "outputs": [
    {
     "data": {
      "text/plain": [
       "'test'"
      ]
     },
     "execution_count": 11,
     "metadata": {},
     "output_type": "execute_result"
    }
   ],
   "source": [
    "dict1.show()[10]"
   ]
  },
  {
   "cell_type": "markdown",
   "id": "c23a6a68",
   "metadata": {},
   "source": [
    "我们可以使用 get_length 方法获取 CyberDict 的长度"
   ]
  },
  {
   "cell_type": "code",
   "execution_count": 12,
   "id": "1061dca0",
   "metadata": {},
   "outputs": [
    {
     "data": {
      "text/plain": [
       "2"
      ]
     },
     "execution_count": 12,
     "metadata": {},
     "output_type": "execute_result"
    }
   ],
   "source": [
    "dict1.get_length()"
   ]
  },
  {
   "cell_type": "markdown",
   "id": "dfdbd4f7",
   "metadata": {},
   "source": [
    "使用 delete 方法删除键值对"
   ]
  },
  {
   "cell_type": "code",
   "execution_count": 13,
   "id": "91993e9e",
   "metadata": {},
   "outputs": [],
   "source": [
    "dict1.delete(10)"
   ]
  },
  {
   "cell_type": "markdown",
   "id": "398a3131",
   "metadata": {},
   "source": [
    "dict1.delete(10) 等效于在本地使用 del dict1[10]"
   ]
  },
  {
   "cell_type": "markdown",
   "id": "f246552a",
   "metadata": {},
   "source": [
    "下面对 CyberList 执行常用操作\n",
    "\n",
    "将 list1 增加为 5 * 5 的全 0 表格"
   ]
  },
  {
   "cell_type": "code",
   "execution_count": 14,
   "id": "10ead229",
   "metadata": {},
   "outputs": [],
   "source": [
    "for i in range(5):\n",
    "    list1.append([0 for i in range(5)])"
   ]
  },
  {
   "cell_type": "markdown",
   "id": "5c58f9ba",
   "metadata": {},
   "source": [
    "使用 show 方法获取 list1 的所有数据(此处的 show 方法和 CyberDict 一样)"
   ]
  },
  {
   "cell_type": "code",
   "execution_count": 15,
   "id": "fcb6c972",
   "metadata": {},
   "outputs": [
    {
     "data": {
      "text/plain": [
       "[[0, 0, 0, 0, 0],\n",
       " [0, 0, 0, 0, 0],\n",
       " [0, 0, 0, 0, 0],\n",
       " [0, 0, 0, 0, 0],\n",
       " [0, 0, 0, 0, 0]]"
      ]
     },
     "execution_count": 15,
     "metadata": {},
     "output_type": "execute_result"
    }
   ],
   "source": [
    "list1.show()"
   ]
  },
  {
   "cell_type": "markdown",
   "id": "c4012520",
   "metadata": {},
   "source": [
    "使用 update 方法修改 list1 的第 4 个值(下标为 3)，更改为全 1。（update 只能作用于表格的第一维）"
   ]
  },
  {
   "cell_type": "code",
   "execution_count": 16,
   "id": "2d507aa5",
   "metadata": {},
   "outputs": [
    {
     "data": {
      "text/plain": [
       "[[0, 0, 0, 0, 0],\n",
       " [0, 0, 0, 0, 0],\n",
       " [0, 0, 0, 0, 0],\n",
       " [1, 1, 1, 1, 1],\n",
       " [0, 0, 0, 0, 0]]"
      ]
     },
     "execution_count": 16,
     "metadata": {},
     "output_type": "execute_result"
    }
   ],
   "source": [
    "list1.update(3, [1 for i in range(5)])\n",
    "list1.show()"
   ]
  },
  {
   "cell_type": "markdown",
   "id": "50b7a3af",
   "metadata": {},
   "source": [
    "使用 update_form 方法修改 list1 的第 5 行第 5 个值(下标为 4, 4)为 1。（update_form 用于修改二维表格）"
   ]
  },
  {
   "cell_type": "code",
   "execution_count": 17,
   "id": "c5e76d03",
   "metadata": {},
   "outputs": [
    {
     "data": {
      "text/plain": [
       "[[0, 0, 0, 0, 0],\n",
       " [0, 0, 0, 0, 0],\n",
       " [0, 0, 0, 0, 0],\n",
       " [1, 1, 1, 1, 1],\n",
       " [0, 0, 0, 0, 1]]"
      ]
     },
     "execution_count": 17,
     "metadata": {},
     "output_type": "execute_result"
    }
   ],
   "source": [
    "list1.update_form(4, 4, 1)\n",
    "list1.show()"
   ]
  },
  {
   "cell_type": "markdown",
   "id": "3eefbc89",
   "metadata": {},
   "source": [
    "loc 方法可以定位一维表格\n",
    "如下，使用 loc 方法定位 list1 的第 4 行"
   ]
  },
  {
   "cell_type": "code",
   "execution_count": 18,
   "id": "442d3c29",
   "metadata": {},
   "outputs": [
    {
     "data": {
      "text/plain": [
       "[1, 1, 1, 1, 1]"
      ]
     },
     "execution_count": 18,
     "metadata": {},
     "output_type": "execute_result"
    }
   ],
   "source": [
    "list1.loc(3)"
   ]
  },
  {
   "cell_type": "markdown",
   "id": "19d36989",
   "metadata": {},
   "source": [
    "使用 loc_form 可定位二维表格，此处定位表格的第 5 行第 5 列"
   ]
  },
  {
   "cell_type": "code",
   "execution_count": 19,
   "id": "03f93d84",
   "metadata": {},
   "outputs": [
    {
     "data": {
      "text/plain": [
       "1"
      ]
     },
     "execution_count": 19,
     "metadata": {},
     "output_type": "execute_result"
    }
   ],
   "source": [
    "list1.loc_form(4, 4)"
   ]
  },
  {
   "cell_type": "markdown",
   "id": "d7da346a",
   "metadata": {},
   "source": [
    "使用 slice 进行切片"
   ]
  },
  {
   "cell_type": "code",
   "execution_count": 20,
   "id": "645340b3",
   "metadata": {},
   "outputs": [
    {
     "data": {
      "text/plain": [
       "[[0, 0, 0, 0, 1]]"
      ]
     },
     "execution_count": 20,
     "metadata": {},
     "output_type": "execute_result"
    }
   ],
   "source": [
    "list1.slice(4, 6)"
   ]
  },
  {
   "cell_type": "markdown",
   "id": "6ed6d7ae",
   "metadata": {},
   "source": [
    "获取 list1 的长度"
   ]
  },
  {
   "cell_type": "code",
   "execution_count": 21,
   "id": "be5e43fc",
   "metadata": {},
   "outputs": [
    {
     "data": {
      "text/plain": [
       "5"
      ]
     },
     "execution_count": 21,
     "metadata": {},
     "output_type": "execute_result"
    }
   ],
   "source": [
    "list1.get_length()"
   ]
  },
  {
   "cell_type": "markdown",
   "id": "cb23fdc9",
   "metadata": {},
   "source": [
    "关于列表的迭代，虽然可以直接用 show 方法获取列表后迭代，但会占用较多的内存（如果 CyberList 很大）。CyberDB 内置提供了生成器，可以使用生成器迭代 CyberList，如下所示"
   ]
  },
  {
   "cell_type": "code",
   "execution_count": 22,
   "id": "61259709",
   "metadata": {
    "scrolled": true
   },
   "outputs": [
    {
     "name": "stdout",
     "output_type": "stream",
     "text": [
      "[0, 0, 0, 0, 0]\n",
      "[0, 0, 0, 0, 0]\n",
      "[0, 0, 0, 0, 0]\n",
      "[1, 1, 1, 1, 1]\n",
      "[0, 0, 0, 0, 1]\n"
     ]
    }
   ],
   "source": [
    "from cyberdb import generate\n",
    "\n",
    "for row in generate(list1):\n",
    "    print(row)"
   ]
  },
  {
   "cell_type": "markdown",
   "id": "0acb2c00",
   "metadata": {},
   "source": [
    "该方法同样适用于迭代 CyberDict 的 key"
   ]
  },
  {
   "cell_type": "markdown",
   "id": "1536bedc",
   "metadata": {},
   "source": [
    "#### 概括\n",
    "\n",
    "有了 CyberDB，便能充分利用内存性能，不同进程(甚至不同主机)能通过 Python 的数据结构通信。自定义数据结构、机器学习部署等教程请参考官方文档，感谢你的支持！\n",
    "\n",
    "电光笔记官网 [https://www.cyberlight.xyz/](https://www.cyberlight.xyz/)"
   ]
  }
 ],
 "metadata": {
  "kernelspec": {
   "display_name": "Python 3",
   "language": "python",
   "name": "python3"
  },
  "language_info": {
   "codemirror_mode": {
    "name": "ipython",
    "version": 3
   },
   "file_extension": ".py",
   "mimetype": "text/x-python",
   "name": "python",
   "nbconvert_exporter": "python",
   "pygments_lexer": "ipython3",
   "version": "3.8.6"
  },
  "toc": {
   "base_numbering": 1,
   "nav_menu": {},
   "number_sections": true,
   "sideBar": true,
   "skip_h1_title": false,
   "title_cell": "Table of Contents",
   "title_sidebar": "Contents",
   "toc_cell": false,
   "toc_position": {},
   "toc_section_display": true,
   "toc_window_display": false
  }
 },
 "nbformat": 4,
 "nbformat_minor": 5
}
