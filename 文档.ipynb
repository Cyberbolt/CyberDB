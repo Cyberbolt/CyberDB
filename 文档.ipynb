{
 "cells": [
  {
   "cell_type": "markdown",
   "id": "lightweight-session",
   "metadata": {},
   "source": [
    "# CyberDB\n",
    "\n",
    "CyberDB 是一个轻量级的 Python 内存数据库。它旨在利用 Python 内置数据结构 Dictionaries、Lists 作数据存储，通过 Socket TCP 高效通信，并提供数据持久化。该模块常用于 Gunicorn 进程间通信、分布式计算 等领域。\n",
    "\n",
    "## 安装方法\n",
    "\n",
    "1.进入命令窗口，创建虚拟环境，依次输入以下命令\n",
    "\n",
    "Linux 和 macOS:\n"
   ]
  },
  {
   "cell_type": "code",
   "execution_count": null,
   "id": "understood-rider",
   "metadata": {},
   "outputs": [],
   "source": [
    "python3 -m venv venv # 创建虚拟环境\n",
    ". venv/bin/activate # 激活虚拟环境"
   ]
  },
  {
   "cell_type": "markdown",
   "id": "endless-coating",
   "metadata": {},
   "source": [
    "Windows:"
   ]
  },
  {
   "cell_type": "code",
   "execution_count": null,
   "id": "greenhouse-encoding",
   "metadata": {},
   "outputs": [],
   "source": [
    "python -m venv venv # 创建虚拟环境\n",
    "venv\\Scripts\\activate # 激活虚拟环境"
   ]
  },
  {
   "cell_type": "markdown",
   "id": "wireless-stephen",
   "metadata": {},
   "source": [
    "2.安装 CyberDB，依次输入"
   ]
  },
  {
   "cell_type": "code",
   "execution_count": null,
   "id": "acquired-burden",
   "metadata": {},
   "outputs": [],
   "source": [
    "pip install --upgrade pip\n",
    "pip install cyberdb"
   ]
  },
  {
   "cell_type": "markdown",
   "id": "indirect-exhibit",
   "metadata": {},
   "source": [
    "如果你的服务端和客户端在两个不同的项目目录运行，请分别在服务端、客户端的虚拟环境中安装 CyberDB。\n",
    "\n",
    "## 链接\n",
    "\n",
    "- GitHub: [https://github.com/Cyberbolt/CyberDB](https://github.com/Cyberbolt/CyberDB) \n",
    "- PyPI: [https://pypi.org/project/CyberDB/](https://pypi.org/project/CyberDB/)\n",
    "- 文档: 正在撰写中\n",
    "- 电光笔记 [https://www.cyberlight.xyz/](https://www.cyberlight.xyz/)\n",
    "\n",
    "## 快速使用\n",
    "\n",
    "该模块中请使用 CyberDict 和 CyberList 替代 dict 和 list （一种基于 TCP 的类 Dictionaries、类 Lists 对象）。\n",
    "\n",
    "### 服务端\n"
   ]
  },
  {
   "cell_type": "markdown",
   "id": "bibliographic-profit",
   "metadata": {},
   "source": [
    "首先单独开一个 py 文件，用于服务端初始化时创建数据库表，运行服务端后保存所建表到本地。（该文件只在建表时使用，后续将不会运行）"
   ]
  },
  {
   "cell_type": "code",
   "execution_count": 1,
   "id": "verified-therapist",
   "metadata": {},
   "outputs": [],
   "source": [
    "import cyberdb\n",
    "\n",
    "db = cyberdb.Server()\n",
    "# 数据持久化，备份文件为 data.cdb，备份周期 900 秒一次。\n",
    "db.set_backup('data.cdb', cycle=900)\n",
    "# 设置 TCP 地址、端口号、密码，生产环境中密码建议使用大小写字母和数字的组合。\n",
    "# start 方法不会阻塞运行，若希望该操作阻塞，请使用 run 方法代替 start，参数不变。\n",
    "db.start(host='127.0.0.1', port=9980, password='123456')"
   ]
  },
  {
   "cell_type": "markdown",
   "id": "comparative-rebecca",
   "metadata": {},
   "source": [
    "上述服务端运行后，每 900 秒将在此项目根目录生成（或覆盖） data.cdb 和 data_backup.cdb (备用文件)。下次启动数据库可使用 load 方法读取该文件。"
   ]
  },
  {
   "cell_type": "markdown",
   "id": "considered-diana",
   "metadata": {},
   "source": [
    "### 客户端\n",
    "\n",
    "#### 连接数据库"
   ]
  },
  {
   "cell_type": "code",
   "execution_count": 2,
   "id": "anonymous-blanket",
   "metadata": {},
   "outputs": [],
   "source": [
    "import cyberdb\n",
    "\n",
    "# 生成客户端实例并连接。\n",
    "client = cyberdb.connect(host='127.0.0.1', port=9980, password='123456')"
   ]
  },
  {
   "cell_type": "markdown",
   "id": "fewer-stake",
   "metadata": {},
   "source": [
    "#### 生成 proxy 对象"
   ]
  },
  {
   "cell_type": "code",
   "execution_count": 3,
   "id": "annoying-rehabilitation",
   "metadata": {},
   "outputs": [],
   "source": [
    "# 生成本次请求的 proxy。\n",
    "proxy = client.get_proxy()\n",
    "# 从连接池自动获取数据库连接。\n",
    "proxy.connect()"
   ]
  },
  {
   "cell_type": "markdown",
   "id": "behavioral-profession",
   "metadata": {},
   "source": [
    "proxy 对象是线程不安全的，请在每个线程(或协程)中单独生成 proxy 对象，并通过 connect 方法获取数据库连接。你只需在操作完成后使用 close 方法归还连接即可，归还后的连接由 client 对象智能管理。\n",
    "\n",
    "#### 操作 proxy 对象"
   ]
  },
  {
   "cell_type": "markdown",
   "id": "weekly-contributor",
   "metadata": {},
   "source": [
    "创建 CyberDict 和 CyberList"
   ]
  },
  {
   "cell_type": "code",
   "execution_count": 4,
   "id": "pressing-kingston",
   "metadata": {},
   "outputs": [],
   "source": [
    "# 在数据库中分别创建类型为 CyberDict 的 dict1、dict2 表，\n",
    "# 类型为 CyberList 的 list1 表。\n",
    "proxy.create_cyberdict('dict1')\n",
    "proxy.create_cyberdict('dict2')\n",
    "proxy.create_cyberlist('list1')"
   ]
  },
  {
   "cell_type": "code",
   "execution_count": 5,
   "id": "quality-klein",
   "metadata": {},
   "outputs": [],
   "source": [
    "dict1 = proxy.get_cyberdict('dict1')\n",
    "dict2 = proxy.get_cyberdict('dict2')\n",
    "list1 = proxy.get_cyberlist('list1')"
   ]
  },
  {
   "cell_type": "markdown",
   "id": "professional-minimum",
   "metadata": {},
   "source": [
    "此处获取的 dict1、dict2、list1 均为网络对象，数据通过 TCP 传输。三个对象受 proxy 控制，当调用 proxy.close() 归还连接后，三个对象也会失效。同样，使用 proxy.connect() 可重新从连接池获取连接，dict1、dict2、list1 也变为可用。\n",
    "\n",
    "了解此操作后，你便可以像操作 Dictionaries 一样操作 dict1、dict2，像操作 Lists 一样操作 list1 了！（CyberDict 和 CyberList 支持 Dictionaries、Lists 的大部分方法）\n",
    "\n",
    "示例如下"
   ]
  },
  {
   "cell_type": "markdown",
   "id": "behavioral-tribe",
   "metadata": {},
   "source": [
    "##### CyberDict 常用操作"
   ]
  },
  {
   "cell_type": "markdown",
   "id": "starting-waste",
   "metadata": {},
   "source": [
    "在 dict1 和 dict2 中新增键值对"
   ]
  },
  {
   "cell_type": "code",
   "execution_count": 6,
   "id": "alpine-california",
   "metadata": {},
   "outputs": [],
   "source": [
    "dict1[0] = 100\n",
    "dict1['test'] = 'Hello CyberDB!'\n",
    "dict2[0] = 200"
   ]
  },
  {
   "cell_type": "markdown",
   "id": "hawaiian-visibility",
   "metadata": {},
   "source": [
    "获取对应的值"
   ]
  },
  {
   "cell_type": "code",
   "execution_count": 7,
   "id": "partial-procurement",
   "metadata": {},
   "outputs": [
    {
     "data": {
      "text/plain": [
       "100"
      ]
     },
     "execution_count": 7,
     "metadata": {},
     "output_type": "execute_result"
    }
   ],
   "source": [
    "dict1.get(0)"
   ]
  },
  {
   "cell_type": "code",
   "execution_count": 8,
   "id": "synthetic-warning",
   "metadata": {},
   "outputs": [
    {
     "data": {
      "text/plain": [
       "200"
      ]
     },
     "execution_count": 8,
     "metadata": {},
     "output_type": "execute_result"
    }
   ],
   "source": [
    "dict2[0]"
   ]
  },
  {
   "cell_type": "markdown",
   "id": "entertaining-sport",
   "metadata": {},
   "source": [
    "查看 dict1 和 dict2 (也可以使用 print 打印)"
   ]
  },
  {
   "cell_type": "code",
   "execution_count": 9,
   "id": "stuffed-coach",
   "metadata": {},
   "outputs": [
    {
     "data": {
      "text/plain": [
       "{0: 100, 'test': 'Hello CyberDB!'}"
      ]
     },
     "execution_count": 9,
     "metadata": {},
     "output_type": "execute_result"
    }
   ],
   "source": [
    "dict1"
   ]
  },
  {
   "cell_type": "code",
   "execution_count": 10,
   "id": "extensive-cabinet",
   "metadata": {},
   "outputs": [
    {
     "data": {
      "text/plain": [
       "{0: 200}"
      ]
     },
     "execution_count": 10,
     "metadata": {},
     "output_type": "execute_result"
    }
   ],
   "source": [
    "dict2"
   ]
  },
  {
   "cell_type": "markdown",
   "id": "cheap-handbook",
   "metadata": {},
   "source": [
    "获取长度"
   ]
  },
  {
   "cell_type": "code",
   "execution_count": 11,
   "id": "celtic-harmony",
   "metadata": {},
   "outputs": [
    {
     "data": {
      "text/plain": [
       "2"
      ]
     },
     "execution_count": 11,
     "metadata": {},
     "output_type": "execute_result"
    }
   ],
   "source": [
    "len(dict1)"
   ]
  },
  {
   "cell_type": "markdown",
   "id": "sixth-offense",
   "metadata": {},
   "source": [
    "删除键值对"
   ]
  },
  {
   "cell_type": "code",
   "execution_count": 12,
   "id": "unavailable-mounting",
   "metadata": {},
   "outputs": [],
   "source": [
    "del dict1[0]"
   ]
  },
  {
   "cell_type": "code",
   "execution_count": 13,
   "id": "pretty-peace",
   "metadata": {},
   "outputs": [
    {
     "data": {
      "text/plain": [
       "{'test': 'Hello CyberDB!'}"
      ]
     },
     "execution_count": 13,
     "metadata": {},
     "output_type": "execute_result"
    }
   ],
   "source": [
    "dict1"
   ]
  },
  {
   "cell_type": "markdown",
   "id": "downtown-assurance",
   "metadata": {},
   "source": [
    "清空 dict1"
   ]
  },
  {
   "cell_type": "code",
   "execution_count": 14,
   "id": "indoor-stanford",
   "metadata": {},
   "outputs": [
    {
     "data": {
      "text/plain": [
       "{}"
      ]
     },
     "execution_count": 14,
     "metadata": {},
     "output_type": "execute_result"
    }
   ],
   "source": [
    "dict1.clear()\n",
    "dict1"
   ]
  },
  {
   "cell_type": "markdown",
   "id": "arbitrary-tulsa",
   "metadata": {},
   "source": [
    "##### CyberList 常用操作"
   ]
  },
  {
   "cell_type": "markdown",
   "id": "ranking-monster",
   "metadata": {},
   "source": [
    "生成 list1 的内容"
   ]
  },
  {
   "cell_type": "code",
   "execution_count": 15,
   "id": "phantom-publicity",
   "metadata": {},
   "outputs": [
    {
     "data": {
      "text/plain": [
       "[99, 99, 99, 99, 99]"
      ]
     },
     "execution_count": 15,
     "metadata": {},
     "output_type": "execute_result"
    }
   ],
   "source": [
    "for i in range(5):\n",
    "    list1.append(99)\n",
    "    \n",
    "list1"
   ]
  },
  {
   "cell_type": "markdown",
   "id": "ongoing-inspector",
   "metadata": {},
   "source": [
    "更改坐标值"
   ]
  },
  {
   "cell_type": "code",
   "execution_count": 16,
   "id": "russian-clearance",
   "metadata": {},
   "outputs": [
    {
     "data": {
      "text/plain": [
       "[99, 99, 99, 100, 99]"
      ]
     },
     "execution_count": 16,
     "metadata": {},
     "output_type": "execute_result"
    }
   ],
   "source": [
    "list1[3] = 100\n",
    "list1"
   ]
  },
  {
   "cell_type": "markdown",
   "id": "continuous-denial",
   "metadata": {},
   "source": [
    "进行切片"
   ]
  },
  {
   "cell_type": "code",
   "execution_count": 17,
   "id": "interstate-tribe",
   "metadata": {},
   "outputs": [
    {
     "data": {
      "text/plain": [
       "[100, 99]"
      ]
     },
     "execution_count": 17,
     "metadata": {},
     "output_type": "execute_result"
    }
   ],
   "source": [
    "list1[3:]"
   ]
  },
  {
   "cell_type": "markdown",
   "id": "cosmetic-surfing",
   "metadata": {},
   "source": [
    "获取 list1 的长度"
   ]
  },
  {
   "cell_type": "code",
   "execution_count": 18,
   "id": "opening-reporter",
   "metadata": {},
   "outputs": [
    {
     "data": {
      "text/plain": [
       "5"
      ]
     },
     "execution_count": 18,
     "metadata": {},
     "output_type": "execute_result"
    }
   ],
   "source": [
    "len(list1)"
   ]
  },
  {
   "cell_type": "markdown",
   "id": "spoken-cardiff",
   "metadata": {},
   "source": [
    "通过迭代打印 list1 每个元素"
   ]
  },
  {
   "cell_type": "code",
   "execution_count": 19,
   "id": "right-relative",
   "metadata": {},
   "outputs": [
    {
     "name": "stdout",
     "output_type": "stream",
     "text": [
      "99\n",
      "99\n",
      "99\n",
      "100\n",
      "99\n"
     ]
    }
   ],
   "source": [
    "for v in list1:\n",
    "    print(v)"
   ]
  },
  {
   "cell_type": "markdown",
   "id": "fifth-substitute",
   "metadata": {},
   "source": [
    "强烈推荐使用 for 循环迭代 CyberDict，每次迭代将从服务端获取 v，客户端的空间复杂度为 o(1)。迭代同样可用于 CyberDict，CyberDict 的迭代中，客户端空间复杂度为 o(n), n 为 CyberDict.keys() 的大小。\n",
    "\n",
    "#### 释放 proxy 对象\n",
    "\n",
    "使用完成，将 proxy 的连接归还至连接池即可。"
   ]
  },
  {
   "cell_type": "code",
   "execution_count": 20,
   "id": "funded-consciousness",
   "metadata": {},
   "outputs": [],
   "source": [
    "proxy.close()"
   ]
  },
  {
   "cell_type": "markdown",
   "id": "automotive-mirror",
   "metadata": {},
   "source": [
    "proxy 对象同样支持上下文管理器，如"
   ]
  },
  {
   "cell_type": "code",
   "execution_count": 21,
   "id": "brutal-pleasure",
   "metadata": {},
   "outputs": [
    {
     "name": "stdout",
     "output_type": "stream",
     "text": [
      "[99, 99, 99, 100, 99]\n"
     ]
    }
   ],
   "source": [
    "with client.get_proxy() as proxy:\n",
    "    list1 = proxy.get_cyberlist('list1')\n",
    "    print(list1)"
   ]
  },
  {
   "cell_type": "markdown",
   "id": "fixed-columbus",
   "metadata": {},
   "source": [
    "## 概括\n",
    "\n",
    "有了 CyberDB，便能充分利用内存性能，不同进程(甚至不同主机)能通过 Python 的数据结构通信。生产环境使用方法请参考官方文档，感谢你的支持！"
   ]
  },
  {
   "cell_type": "markdown",
   "id": "noble-observation",
   "metadata": {},
   "source": [
    "## 注意\n",
    "\n",
    "由于编码限制，CyberDB 会将 0 识别为 None，但并不影响计算，请在所需位置将 None 转为 0。"
   ]
  }
 ],
 "metadata": {
  "kernelspec": {
   "display_name": "Python 3",
   "language": "python",
   "name": "python3"
  },
  "language_info": {
   "codemirror_mode": {
    "name": "ipython",
    "version": 3
   },
   "file_extension": ".py",
   "mimetype": "text/x-python",
   "name": "python",
   "nbconvert_exporter": "python",
   "pygments_lexer": "ipython3",
   "version": "3.8.6"
  },
  "toc": {
   "base_numbering": 1,
   "nav_menu": {},
   "number_sections": true,
   "sideBar": true,
   "skip_h1_title": false,
   "title_cell": "Table of Contents",
   "title_sidebar": "Contents",
   "toc_cell": false,
   "toc_position": {},
   "toc_section_display": true,
   "toc_window_display": false
  }
 },
 "nbformat": 4,
 "nbformat_minor": 5
}
