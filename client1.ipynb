{
 "cells": [
  {
   "cell_type": "code",
   "execution_count": 1,
   "id": "a0a81144-4c11-4d40-8215-1277cc233ee1",
   "metadata": {},
   "outputs": [],
   "source": [
    "from cyberdb import DBClient"
   ]
  },
  {
   "cell_type": "code",
   "execution_count": 2,
   "id": "4705e8bb-7638-4212-99e4-8d61e835eab2",
   "metadata": {},
   "outputs": [],
   "source": [
    "client = DBClient()"
   ]
  },
  {
   "cell_type": "code",
   "execution_count": 3,
   "id": "47d708aa-2a18-42bd-bdcf-68060dd08a0a",
   "metadata": {},
   "outputs": [],
   "source": [
    "client.load_config('cyberdb_file/config.cdb')"
   ]
  },
  {
   "cell_type": "code",
   "execution_count": 4,
   "id": "4558998b-0935-42cd-a76b-90f81195ccad",
   "metadata": {},
   "outputs": [],
   "source": [
    "db = client.connect(password='123123')"
   ]
  },
  {
   "cell_type": "code",
   "execution_count": 5,
   "id": "01bb9be3-0e15-4b75-ba8f-46a7d3494ad7",
   "metadata": {},
   "outputs": [
    {
     "data": {
      "text/plain": [
       "cyberdb.tool.DBCon"
      ]
     },
     "execution_count": 5,
     "metadata": {},
     "output_type": "execute_result"
    }
   ],
   "source": [
    "type(db)"
   ]
  },
  {
   "cell_type": "code",
   "execution_count": 6,
   "id": "083b8a5e-4633-4d6f-a9e8-2e5bee1564a2",
   "metadata": {},
   "outputs": [],
   "source": [
    "dict2 = db['CyberDict']['dict2']"
   ]
  },
  {
   "cell_type": "code",
   "execution_count": 7,
   "id": "ad005e08-ab51-4fb8-add7-ae7d2fcb8eaa",
   "metadata": {},
   "outputs": [],
   "source": [
    "dict1 = db['CyberDict']['dict1']"
   ]
  },
  {
   "cell_type": "code",
   "execution_count": 8,
   "id": "8b15fd87-2d81-421f-8f17-19c7f26e856e",
   "metadata": {},
   "outputs": [
    {
     "data": {
      "text/plain": [
       "{0: 'dict1', '测试': '大数据'}"
      ]
     },
     "execution_count": 8,
     "metadata": {},
     "output_type": "execute_result"
    }
   ],
   "source": [
    "dict1.show()"
   ]
  },
  {
   "cell_type": "code",
   "execution_count": 9,
   "id": "90a4181c-f951-4097-8951-37ecd2fc1396",
   "metadata": {},
   "outputs": [
    {
     "data": {
      "text/plain": [
       "{0: 'dict2'}"
      ]
     },
     "execution_count": 9,
     "metadata": {},
     "output_type": "execute_result"
    }
   ],
   "source": [
    "dict2.show()"
   ]
  },
  {
   "cell_type": "code",
   "execution_count": 10,
   "id": "db2828f3-e06b-4ef3-b4ef-bc0626cc6e3c",
   "metadata": {},
   "outputs": [
    {
     "name": "stdout",
     "output_type": "stream",
     "text": [
      "name:dict1  type:CyberDict\n",
      "name:dict2  type:CyberDict\n",
      "name:list1  type:CyberList\n"
     ]
    }
   ],
   "source": [
    "client.show_tables_list()"
   ]
  },
  {
   "cell_type": "code",
   "execution_count": 11,
   "id": "7177fc05-e378-4605-899c-c4e1ff7a3a4d",
   "metadata": {},
   "outputs": [
    {
     "data": {
      "text/plain": [
       "<cyberdb.tool.DBCon at 0xffff7778eb20>"
      ]
     },
     "execution_count": 11,
     "metadata": {},
     "output_type": "execute_result"
    }
   ],
   "source": [
    "client.get_db()"
   ]
  },
  {
   "cell_type": "code",
   "execution_count": 12,
   "id": "9c0746e0-8d7f-4b9b-b4e0-46358aabd9cb",
   "metadata": {},
   "outputs": [],
   "source": [
    "dict1.put('测试', '大数据')"
   ]
  },
  {
   "cell_type": "code",
   "execution_count": 13,
   "id": "c1db2cdf-95cf-4b17-a44f-b81221341720",
   "metadata": {},
   "outputs": [],
   "source": [
    "list1 = db['CyberList']['list1']"
   ]
  },
  {
   "cell_type": "code",
   "execution_count": 14,
   "id": "80e79955-c721-4d28-af60-e3eb778361c2",
   "metadata": {},
   "outputs": [],
   "source": [
    "# for i in range(10):\n",
    "#     list1.append([0 for i in range(5)])"
   ]
  },
  {
   "cell_type": "code",
   "execution_count": 15,
   "id": "152ce73f-47cf-4c6f-acf4-8e9770956763",
   "metadata": {},
   "outputs": [
    {
     "data": {
      "text/plain": [
       "[[0, 0, 0, 0, 0],\n",
       " [0, 0, 0, 0, 0],\n",
       " [0, 0, 0, 0, 0],\n",
       " [1, 1, 1, 1, 1],\n",
       " [0, 0, 0, 0, 1],\n",
       " [0, 0, 0, 0, 0],\n",
       " [0, 0, 0, 0, 0],\n",
       " [0, 0, 0, 0, 0],\n",
       " [0, 0, 0, 0, 0],\n",
       " [0, 0, 0, 0, 0],\n",
       " [0, 0, 0, 0, 0],\n",
       " [0, 0, 0, 0, 0],\n",
       " [0, 0, 0, 0, 0],\n",
       " [0, 0, 0, 0, 0],\n",
       " [0, 0, 0, 0, 0]]"
      ]
     },
     "execution_count": 15,
     "metadata": {},
     "output_type": "execute_result"
    }
   ],
   "source": [
    "list1.show()"
   ]
  },
  {
   "cell_type": "code",
   "execution_count": 16,
   "id": "0f5fc2a8-1e2a-4a38-8eff-a40d8ad149f1",
   "metadata": {},
   "outputs": [
    {
     "data": {
      "text/plain": [
       "<cyberdb.tool.DBCon at 0xffff776c4ca0>"
      ]
     },
     "execution_count": 16,
     "metadata": {},
     "output_type": "execute_result"
    }
   ],
   "source": [
    "client.get_db()"
   ]
  },
  {
   "cell_type": "code",
   "execution_count": null,
   "id": "e1b35a9a-bc0d-4310-b001-e1df4ba709a0",
   "metadata": {},
   "outputs": [],
   "source": []
  }
 ],
 "metadata": {
  "kernelspec": {
   "display_name": "Python 3 (ipykernel)",
   "language": "python",
   "name": "python3"
  },
  "language_info": {
   "codemirror_mode": {
    "name": "ipython",
    "version": 3
   },
   "file_extension": ".py",
   "mimetype": "text/x-python",
   "name": "python",
   "nbconvert_exporter": "python",
   "pygments_lexer": "ipython3",
   "version": "3.8.6"
  }
 },
 "nbformat": 4,
 "nbformat_minor": 5
}
